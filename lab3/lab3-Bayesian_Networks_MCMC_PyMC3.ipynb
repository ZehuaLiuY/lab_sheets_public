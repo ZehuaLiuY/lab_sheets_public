{
 "cells": [
  {
   "cell_type": "markdown",
   "metadata": {},
   "source": [
    "# Lab 3: Bayesian Networks, Markov Chain Monte Carlo (MCMC) and PyMC\n",
    "\n",
    "In this lab we will focus on expressing probability distributions in the form of Bayesian Networks and using PyMC to (approximately) sample from these distributions and perform inference. \n",
    "\n",
    "The last set of exercises in this lab will require the use of the [`pymc`](https://docs.pymc.io/) package so make sure to have this installed now (recommended) or before you get started on that section. The PyMC [`installation instructions`](https://www.pymc.io/projects/docs/en/stable/installation.html) suggest that you install PyMC into a new conda environment. If you do that (and I would recommend it) you need to make sure any jupyter notebooks are run inside that conda environment. You can make this happen by first activating the conda environment and then installing jupyter in it. For example, if you chose to call your PyMC conda environment `pymc_env` then this should work (assuming you have conda set up correctly):\n",
    "\n",
    "``conda activate pymc_env\n",
    "conda install jupyter\n",
    "``\n",
    "\n",
    "OK, let's now get on with the exercises. First, we will import the required packages for the initial exercises:"
   ]
  },
  {
   "cell_type": "code",
   "execution_count": 11,
   "metadata": {
    "ExecuteTime": {
     "end_time": "2023-10-15T22:17:34.083729100Z",
     "start_time": "2023-10-15T22:17:34.022134400Z"
    }
   },
   "outputs": [],
   "source": [
    "import numpy as np\n",
    "import matplotlib.pyplot as plt\n",
    "from scipy.stats import norm\n",
    "%matplotlib inline "
   ]
  },
  {
   "cell_type": "markdown",
   "metadata": {},
   "source": [
    "## 1) Ancestral Sampling\n",
    "\n",
    "We will first recap the concept of ancestral sampling from lectures. Familiarise yourself with the example of a simple Bayesian network shown below. \n",
    "\n",
    "(C=Cloudy, R=Rain, S=Sprinkler, W=Wet Grass and T/F refer to True/False)"
   ]
  },
  {
   "cell_type": "markdown",
   "metadata": {},
   "source": [
    "<img src=\"toy_graphical_model.png\" width=\"700\">"
   ]
  },
  {
   "cell_type": "markdown",
   "metadata": {},
   "source": [
    "This Bayesian network models the joint distribution over 4 variables P(**C**, **R**, **S**, **W**). To save time, the probability mass function for each of these variables are provided as Python functions below:"
   ]
  },
  {
   "cell_type": "code",
   "execution_count": 12,
   "metadata": {
    "ExecuteTime": {
     "end_time": "2023-10-15T22:17:34.084729400Z",
     "start_time": "2023-10-15T22:17:34.026641200Z"
    }
   },
   "outputs": [],
   "source": [
    "def P_C():\n",
    "    return 0.5\n",
    "\n",
    "def P_R(C):\n",
    "    return 0.2 if C == False else 0.8\n",
    "\n",
    "def P_S(C):\n",
    "    return 0.5 if C == False else 0.1\n",
    "\n",
    "def P_W(R, S):\n",
    "    if R == False:\n",
    "        return 0.0 if S == False else 0.9\n",
    "    else:\n",
    "        return 0.9 if S == False else 0.99"
   ]
  },
  {
   "cell_type": "markdown",
   "metadata": {},
   "source": [
    "The concept of ancestral sampling is very simple and refers to a method of sampling from a distribution over multiple variables by first sampling from nodes in the graph that have no parents and then sampling from their child nodes conditioned on those sampled values. This process of sampling the child node variables conditioned on their parents is repeated until all nodes in the graph have a sampled value (remember that a valid graph must be acyclic so this process will always terminate with a finite number of nodes).\n",
    "\n",
    "### 1.1) Perform Ancestral Sampling\n",
    "\n",
    "Use the above functions to:\n",
    "1. Perform ancestral sampling to generate a number of samples (~100-1000 samples) from the joint distribution. (hint [np.random.rand](https://numpy.org/doc/stable/reference/random/generated/numpy.random.rand.html) or [np.random.choice](https://numpy.org/doc/stable/reference/random/generated/numpy.random.choice.html) are helpful to do this)\n",
    "2. Store the generated samples in a list of the form: [[$\\textbf{C}_1$, $\\textbf{R}_1$, $\\textbf{S}_1$, $\\textbf{W}_1$],[$\\textbf{C}_2$, $\\textbf{R}_2$, $\\textbf{S}_2$, $\\textbf{W}_2$], ...] where 1 and 2 refer to sample indices."
   ]
  },
  {
   "cell_type": "code",
   "execution_count": 13,
   "metadata": {
    "scrolled": true,
    "ExecuteTime": {
     "end_time": "2023-10-15T22:17:34.108532100Z",
     "start_time": "2023-10-15T22:17:34.029996400Z"
    }
   },
   "outputs": [],
   "source": [
    "# write your code here\n",
    "samples = []\n",
    "for i in range(1000):\n",
    "    C = np.random.rand() < P_C()\n",
    "    R = np.random.rand() < P_R(C)\n",
    "    S = np.random.rand() < P_S(C)\n",
    "    W = np.random.rand() < P_W(R, S)\n",
    "    samples.append([C, R, S, W])\n",
    "    "
   ]
  },
  {
   "cell_type": "markdown",
   "metadata": {},
   "source": [
    "The ability to obtain a large number of samples from the joint distribution like this is very powerful because it allows for estimates of many different quantities relating to the distribution to be calculated. Use the list of samples to compute and print out estimates of the following: \n",
    "- Marginal distributions of each variable: P(**C**), P(**R**), P(**S**) and P(**W**).\n",
    "- Conditional distributions of each variable where **W**=T: P(**C** | **W**=T), P(**R** | **W**=T) and P(**S** | **W**=T) (hint discard samples where **W**=F).\n",
    "\n"
   ]
  },
  {
   "cell_type": "code",
   "execution_count": 14,
   "metadata": {
    "ExecuteTime": {
     "end_time": "2023-10-15T22:17:34.109536400Z",
     "start_time": "2023-10-15T22:17:34.034343900Z"
    }
   },
   "outputs": [
    {
     "name": "stdout",
     "output_type": "stream",
     "text": [
      "P(C) ~=  0.484\n",
      "P(R) ~=  0.493\n",
      "P(S) ~=  0.326\n",
      "P(W) ~=  0.671\n",
      "wet samples number:  671\n",
      "P(C | W)) ~=  0.5499254843517138\n",
      "P(R | W)) ~=  0.6751117734724292\n",
      "P(S | W)) ~=  0.45305514157973176\n"
     ]
    }
   ],
   "source": [
    "# write your code here\n",
    "samples = np.array(samples)\n",
    "print('P(C) ~= ', np.mean(samples[:, 0]))\n",
    "print('P(R) ~= ', np.mean(samples[:, 1]))\n",
    "print('P(S) ~= ', np.mean(samples[:, 2]))\n",
    "print('P(W) ~= ', np.mean(samples[:, 3]))\n",
    "\n",
    "wet_samples = samples[samples[:, 3]]\n",
    "\n",
    "print('wet samples number: ', len(wet_samples))\n",
    "print('P(C | W)) ~= ', np.mean(wet_samples[:, 0]))\n",
    "print('P(R | W)) ~= ', np.mean(wet_samples[:, 1]))\n",
    "print('P(S | W)) ~= ', np.mean(wet_samples[:, 2]))"
   ]
  },
  {
   "cell_type": "markdown",
   "metadata": {},
   "source": [
    "For this simple example distribution you may have noticed that exact values for all of these quantities could have been computed directly without the need for sampling. However, as we will see in the following exercises there are many cases where sampling is still feasible but exact or direct computation is not."
   ]
  },
  {
   "cell_type": "markdown",
   "metadata": {},
   "source": [
    " ## 2) Markov Chain Monte Carlo\n",
    "\n",
    "Markov Chain Monte Carlo methods are a set of algorithms with the purpose of generating samples from a distribution. Let's break down the meaning of the individual terms:\n",
    "  - **Monte Carlo** simply refers to the idea of approximating a complicated system with a statistical sample.\n",
    "  - A **Markov chain** refers to a stochastic process involving a number of probabilisitic state transitions from one state to another. The **Markov** property states that any given state transition probability is determined by only the current state not any of the preceding states.\n",
    " \n",
    "Together, Markov Chain Monte Carlo methods are a set of methods that utilise a Markov chain to (approximately) generate samples from some desired distribution. The Markov chain transition probabilites are set up in such a way that the sequence of probability distributions from which sampled states of the chain are drawn will eventually converge to this desired distribution. Note that the initial states of the chain may be sampled from distributions far from the desired distribution which is why they are typically discarded."
   ]
  },
  {
   "cell_type": "markdown",
   "metadata": {},
   "source": [
    "### 2.1) Defining a Gaussian probability density function\n",
    "We will first define a simple distribution that we intend to generate samples from. In the cell below, create a function `gaussian_pdf` that has parameters mean ($\\mu$) and standard deviation ($\\sigma$) and returns a function for the Gaussian probability density function corresponding to those parameters: $$\\Large p(x) = \\frac{1}{\\sqrt{2\\pi\\sigma^2}}e^{-\\frac{1}{2}(\\frac{x-\\mu}{\\sigma})^2}$$\n",
    "\n",
    "You are free to use the `norm` function from [`scipy.stats.norm`](https://docs.scipy.org/doc/scipy/reference/generated/scipy.stats.norm.html) or define this function directly from the equation using `numpy`. Note that `gaussian_pdf` should take just two parameters (`mu` and `sigma`) and should **return a function** $p(x)$ that takes a single parameter.\n",
    "\n",
    "For this implementation it may be useful to use a `lambda` function which is a very useful `Python` feature that allows the creation of anonymous functions. If this concept is unfamiliar to you then please see this python tutorial [here](https://www.w3schools.com/python/python_lambda.asp)."
   ]
  },
  {
   "cell_type": "code",
   "execution_count": 15,
   "metadata": {
    "ExecuteTime": {
     "end_time": "2023-10-15T22:17:34.154570700Z",
     "start_time": "2023-10-15T22:17:34.037838Z"
    }
   },
   "outputs": [],
   "source": [
    "# write your code here\n",
    "def gaussian_pdf(mu, sigma):\n",
    "    return lambda x: 1/np.sqrt(2*np.pi*sigma**2) * np.exp(-0.5*((x-mu)/sigma)**2)\n",
    "\n",
    "def gaussian_mix_pdf(mu1, sigma1, mix_weight1, mu2, sigma2, mix_weight2):\n",
    "    gaussian1 = gaussian_pdf(mu1, sigma1)\n",
    "    gaussian2 = gaussian_pdf(mu2, sigma2)\n",
    "    return lambda x: mix_weight1 * gaussian1(x) + mix_weight2 * gaussian2(x)"
   ]
  },
  {
   "cell_type": "markdown",
   "metadata": {},
   "source": [
    "The code below uses this function to create and plot a Gaussian pdf with `mu=0.0` and `sigma=1.0`."
   ]
  },
  {
   "cell_type": "code",
   "execution_count": 16,
   "metadata": {
    "ExecuteTime": {
     "end_time": "2023-10-15T22:17:34.195271700Z",
     "start_time": "2023-10-15T22:17:34.048702500Z"
    }
   },
   "outputs": [
    {
     "data": {
      "text/plain": "<Figure size 1000x500 with 1 Axes>",
      "image/png": "[encoded data removed]"
     },
     "metadata": {},
     "output_type": "display_data"
    }
   ],
   "source": [
    "true_mean = 0.0\n",
    "true_variance = 1.0\n",
    "\n",
    "z = np.linspace(-5.0, 5.0, 500)\n",
    "true_pdf = gaussian_pdf(mu=true_mean, sigma=np.sqrt(true_variance))\n",
    "\n",
    "plt.figure(figsize=(10,5))\n",
    "plt.plot(z, true_pdf(z))\n",
    "plt.xlabel('$x$')\n",
    "plt.ylabel('$p(x)$')\n",
    "plt.show()"
   ]
  },
  {
   "cell_type": "markdown",
   "metadata": {},
   "source": [
    "### 2.2) Metropolis Algorithm"
   ]
  },
  {
   "cell_type": "markdown",
   "metadata": {},
   "source": [
    "The Metropolis Algorithm is one of the simplest instances of a Markov Chain Monte Carlo method. The goal of the algorithm is to generate samples from some distribution $p(z)$ which in our case is a univariate Gaussian distribution. Let us assume that we do not have an easy way to sample from this distribution (in reality this distribution is very easy to sample from) and that we can only evaluate the unnormalised density, $\\tilde{p}(z)$, where\n",
    "$$\\large p(z) = \\frac{\\tilde{p}(z)}{Z_p}$$ and $Z_p$ may be unknown or computationally intractable. \n",
    "\n",
    "To generate samples, $z_1, z_2, ... z_N$ , from $p(z)$ using an MCMC method such as the Metropolis algorithm we must first define a proposal distribution, $q(z_{t+1}^\\star \\vert z_{t})$, that uses the current state in the chain, $z_t$, to propose new states, $z_{t+1}^\\star$. The only requirements for this proposal distribution are that it can easily be sampled directly and that it is symmetric (although this method can be extended for non-symmetric proposal distributions). For simplicity, in this case we will choose to use a Gaussian proposal distribution with a mean of $z_t$ and a fixed variance $\\sigma_\\star^2$: \n",
    "$$\\large z_{t+1}^\\star \\sim \\mathcal{N}(z_t, \\sigma_\\star^2)$$\n",
    "\n",
    "[comment]: <> (At this point, to clarify, we have an unnormalised density corresponding to the distribution that we wish to be able to sample from and proposal distribution that we can easily sample from. Both distributions are Gaussian to keep things simple for this exercise but remember that this algorithm can be applied to any density.)\n",
    "\n",
    "An initial value for the first state, $z_1$, is chosen at the beginning and is used to propose a value for the next state. The newly proposed value is either accepted as the next state in the chain, $z_2 = z_2^\\star$, or it is rejected, $z_2 = z_1$. Acceptance occurs probabilistically with an acceptance probability of:\n",
    "$$\\large A(z_{t+1}^\\star, z_t) = \\text{min}\\Big(1, \\frac{\\tilde{p}(z_{t+1}^\\star)}{\\tilde{p}(z_t)}\\Big)$$.\n",
    "\n",
    "Note that when $\\tilde{p}(z_{t+1}^\\star)\\geq\\tilde{p}(z_t)$ the new sample is always accepted. It turns out that if we take enough samples in this way then the distribution of $z_t$ converges to $p(z)$."
   ]
  },
  {
   "cell_type": "markdown",
   "metadata": {},
   "source": [
    "Implement the Metropolis algorithm described above and use it to generate samples $z_t$ such that $p(z_{t})$ converges to `gaussian_pdf` with `mu=0.0` and `sigma=1.0`. Set your initial sample value $z_1=0$ and the proposal distribution variance $\\sigma_\\star^2=0.25$. (hint sampling from the proposal distribution can be achieved using [np.random.normal](https://numpy.org/doc/stable/reference/random/generated/numpy.random.normal.html))\n",
    "\n",
    "The plotting functions `plot_samples` and `plot_samples_histogram` have been provided to help with visualising your implementation:\n",
    "- Both functions require the `true_pdf` function and a list of generated samples `samples_list` as arguments.\n",
    "- `plot_samples` generates a single plot per sample so this should be used with a small number of samples ($N\\leq20$).\n",
    "- `plot_samples_histogram` creates a single histogram plot and is a better visualisation for a larger number of samples ($N\\geq5000$)"
   ]
  },
  {
   "cell_type": "code",
   "execution_count": 17,
   "metadata": {
    "ExecuteTime": {
     "end_time": "2023-10-15T22:17:34.208777600Z",
     "start_time": "2023-10-15T22:17:34.106868300Z"
    }
   },
   "outputs": [],
   "source": [
    "def plot_samples(true_pdf, samples_list):\n",
    "    assert len(samples_list) <= 20, \"Number of samples too high! Please call this function with a maximum of 20 samples.\"\n",
    "    for i in range(1, len(samples_list)):\n",
    "        plt.figure(figsize=(10,5))\n",
    "        plt.plot(z, true_pdf(z))\n",
    "        for sample in samples_list[:i-1]:\n",
    "            plt.axvline(sample, c='green')\n",
    "        plt.axvline(samples_list[i-1], c='red')\n",
    "        plt.show()\n",
    "\n",
    "def plot_samples_histogram(true_pdf, samples_list):\n",
    "    plt.figure(figsize=(10,5))\n",
    "    plt.plot(z, true_pdf(z))\n",
    "    plt.hist(samples_list, density=True, histtype='step', bins=50)\n",
    "    plt.show()"
   ]
  },
  {
   "cell_type": "code",
   "execution_count": 18,
   "metadata": {
    "scrolled": false,
    "ExecuteTime": {
     "end_time": "2023-10-15T22:17:34.255918Z",
     "start_time": "2023-10-15T22:17:34.110535700Z"
    }
   },
   "outputs": [
    {
     "data": {
      "text/plain": "<Figure size 1000x500 with 1 Axes>",
      "image/png": "[encoded data removed]"
     },
     "metadata": {},
     "output_type": "display_data"
    },
    {
     "name": "stdout",
     "output_type": "stream",
     "text": [
      "Mean:  -0.08923247907009388\n",
      "Variance:  0.918105501928414\n"
     ]
    }
   ],
   "source": [
    "# write your code here\n",
    "variance = 0.25\n",
    "samples_values = 0\n",
    "samples_list = []\n",
    "num_samples = 10000\n",
    "# initial sample\n",
    "for i in range(num_samples):\n",
    "    # propose a new sample\n",
    "    sample = np.random.normal(samples_values, np.sqrt(variance))\n",
    "    # accept or reject the new sample\n",
    "    if np.random.rand() < gaussian_pdf(0, 1)(sample) / gaussian_pdf(0, 1)(samples_values):\n",
    "        samples_values = sample\n",
    "    samples_list.append(samples_values)\n",
    "\n",
    "# plot_samples(true_pdf, samples_list)\n",
    "plot_samples_histogram(true_pdf, samples_list)\n",
    "print(\"Mean: \", np.mean(samples_list))\n",
    "print(\"Variance: \", np.var(samples_list))"
   ]
  },
  {
   "cell_type": "markdown",
   "metadata": {},
   "source": [
    "### Exercises:\n",
    "1. Estimate the mean and variance of the true distribution from your samples. How does the accuracy of these estimates change if you generate more samples?\n",
    "2. The current implementation uses a normalised Gaussian pdf. Think about what would happen if the density function was unnormalised. Change `gaussian_pdf` to multiply all of its outputs by some constant value and check that you were correct.\n",
    "3. Go back to Section 2.1 and experiment with different density functions:\n",
    "    - Create a function `gaussian_mixture_pdf` that returns the density function for a mixture of two Gaussians with parameters: $\\mu_1 = -2, \\sigma_1=0.5, \\mu_2=2, \\sigma_2=0.5$. This can be achieved simply by creating the two density functions separately using `gaussian_pdf` and summing the result. Set this density to `true_pdf` and run the rest of your code again to generate and plot the distribution of samples from the Gaussian mixture. What do you notice about the distribution of your samples?\n",
    "    - (Optional) Implement the density function for a Uniform distribution, `uniform_pdf`, over the range $(-2, 2)$ and run the code again. (hint: you can use [scipy.stats.uniform](https://docs.scipy.org/doc/scipy/reference/generated/scipy.stats.uniform.html) or implement it yourself using numpy)."
   ]
  },
  {
   "cell_type": "markdown",
   "metadata": {},
   "source": [
    "# write your code here\n"
   ]
  },
  {
   "cell_type": "markdown",
   "metadata": {},
   "source": [
    "## 3) Bayesian Linear Regression with PyMC\n",
    "\n",
    "You should be familiar with the concept of linear regression week 2 lectures and lab and its Bayesian formulation week 3 lectures and Bishop 3.3. In this section we will recap the key ideas and explore how such a model can be defined and fitted to some example data in practice."
   ]
  },
  {
   "cell_type": "markdown",
   "metadata": {},
   "source": [
    "### Introducing PyMC\n",
    "[PyMC](https://docs.pymc.io/) is a library that provides a lot of useful functionality for working with probabilistic models in Python. Importantly, it allows for Bayesian networks to be programmatically defined and it provides efficient implementations of a number of different MCMC methods including the Metropolis algorithm.\n",
    "\n",
    "If you haven't done so already then please make sure you have installed `pymc` before proceeding. PyMC uses [`ArviZ`](https://python.arviz.org/en/latest/index.html) for plotting etc, so we start by importing both pymc and arviz:"
   ]
  },
  {
   "cell_type": "code",
   "execution_count": 20,
   "metadata": {
    "ExecuteTime": {
     "end_time": "2023-10-15T22:17:48.161948800Z",
     "start_time": "2023-10-15T22:17:47.819609200Z"
    }
   },
   "outputs": [
    {
     "ename": "UnicodeDecodeError",
     "evalue": "'gbk' codec can't decode byte 0xba in position 2367: illegal multibyte sequence",
     "output_type": "error",
     "traceback": [
      "\u001B[1;31m---------------------------------------------------------------------------\u001B[0m",
      "\u001B[1;31mUnicodeDecodeError\u001B[0m                        Traceback (most recent call last)",
      "Cell \u001B[1;32mIn[20], line 1\u001B[0m\n\u001B[1;32m----> 1\u001B[0m \u001B[38;5;28;01mimport\u001B[39;00m \u001B[38;5;21;01mpymc\u001B[39;00m \u001B[38;5;28;01mas\u001B[39;00m \u001B[38;5;21;01mpm\u001B[39;00m\n\u001B[0;32m      2\u001B[0m \u001B[38;5;28;01mimport\u001B[39;00m \u001B[38;5;21;01marviz\u001B[39;00m \u001B[38;5;28;01mas\u001B[39;00m \u001B[38;5;21;01maz\u001B[39;00m\n",
      "File \u001B[1;32mE:\\envis\\Anaconda3\\envs\\ML_lab\\Lib\\site-packages\\pymc\\__init__.py:49\u001B[0m\n\u001B[0;32m     44\u001B[0m     pytensor\u001B[38;5;241m.\u001B[39mconfig\u001B[38;5;241m.\u001B[39mgcc__cxxflags \u001B[38;5;241m=\u001B[39m augmented\n\u001B[0;32m     47\u001B[0m __set_compiler_flags()\n\u001B[1;32m---> 49\u001B[0m \u001B[38;5;28;01mfrom\u001B[39;00m \u001B[38;5;21;01mpymc\u001B[39;00m \u001B[38;5;28;01mimport\u001B[39;00m _version, gp, ode, sampling\n\u001B[0;32m     50\u001B[0m \u001B[38;5;28;01mfrom\u001B[39;00m \u001B[38;5;21;01mpymc\u001B[39;00m\u001B[38;5;21;01m.\u001B[39;00m\u001B[38;5;21;01mbackends\u001B[39;00m \u001B[38;5;28;01mimport\u001B[39;00m \u001B[38;5;241m*\u001B[39m\n\u001B[0;32m     51\u001B[0m \u001B[38;5;28;01mfrom\u001B[39;00m \u001B[38;5;21;01mpymc\u001B[39;00m\u001B[38;5;21;01m.\u001B[39;00m\u001B[38;5;21;01mblocking\u001B[39;00m \u001B[38;5;28;01mimport\u001B[39;00m \u001B[38;5;241m*\u001B[39m\n",
      "File \u001B[1;32mE:\\envis\\Anaconda3\\envs\\ML_lab\\Lib\\site-packages\\pymc\\gp\\__init__.py:15\u001B[0m\n\u001B[0;32m      1\u001B[0m \u001B[38;5;66;03m#   Copyright 2023 The PyMC Developers\u001B[39;00m\n\u001B[0;32m      2\u001B[0m \u001B[38;5;66;03m#\u001B[39;00m\n\u001B[0;32m      3\u001B[0m \u001B[38;5;66;03m#   Licensed under the Apache License, Version 2.0 (the \"License\");\u001B[39;00m\n\u001B[1;32m   (...)\u001B[0m\n\u001B[0;32m     12\u001B[0m \u001B[38;5;66;03m#   See the License for the specific language governing permissions and\u001B[39;00m\n\u001B[0;32m     13\u001B[0m \u001B[38;5;66;03m#   limitations under the License.\u001B[39;00m\n\u001B[1;32m---> 15\u001B[0m \u001B[38;5;28;01mfrom\u001B[39;00m \u001B[38;5;21;01mpymc\u001B[39;00m\u001B[38;5;21;01m.\u001B[39;00m\u001B[38;5;21;01mgp\u001B[39;00m \u001B[38;5;28;01mimport\u001B[39;00m cov, mean, util\n\u001B[0;32m     16\u001B[0m \u001B[38;5;28;01mfrom\u001B[39;00m \u001B[38;5;21;01mpymc\u001B[39;00m\u001B[38;5;21;01m.\u001B[39;00m\u001B[38;5;21;01mgp\u001B[39;00m\u001B[38;5;21;01m.\u001B[39;00m\u001B[38;5;21;01mgp\u001B[39;00m \u001B[38;5;28;01mimport\u001B[39;00m (\n\u001B[0;32m     17\u001B[0m     TP,\n\u001B[0;32m     18\u001B[0m     Latent,\n\u001B[1;32m   (...)\u001B[0m\n\u001B[0;32m     23\u001B[0m     MarginalSparse,\n\u001B[0;32m     24\u001B[0m )\n\u001B[0;32m     25\u001B[0m \u001B[38;5;28;01mfrom\u001B[39;00m \u001B[38;5;21;01mpymc\u001B[39;00m\u001B[38;5;21;01m.\u001B[39;00m\u001B[38;5;21;01mgp\u001B[39;00m\u001B[38;5;21;01m.\u001B[39;00m\u001B[38;5;21;01mhsgp_approx\u001B[39;00m \u001B[38;5;28;01mimport\u001B[39;00m HSGP\n",
      "File \u001B[1;32mE:\\envis\\Anaconda3\\envs\\ML_lab\\Lib\\site-packages\\pymc\\gp\\util.py:30\u001B[0m\n\u001B[0;32m     27\u001B[0m \u001B[38;5;28;01mfrom\u001B[39;00m \u001B[38;5;21;01mscipy\u001B[39;00m\u001B[38;5;21;01m.\u001B[39;00m\u001B[38;5;21;01mcluster\u001B[39;00m\u001B[38;5;21;01m.\u001B[39;00m\u001B[38;5;21;01mvq\u001B[39;00m \u001B[38;5;28;01mimport\u001B[39;00m kmeans\n\u001B[0;32m     29\u001B[0m \u001B[38;5;66;03m# Avoid circular dependency when importing modelcontext\u001B[39;00m\n\u001B[1;32m---> 30\u001B[0m \u001B[38;5;28;01mfrom\u001B[39;00m \u001B[38;5;21;01mpymc\u001B[39;00m\u001B[38;5;21;01m.\u001B[39;00m\u001B[38;5;21;01mdistributions\u001B[39;00m\u001B[38;5;21;01m.\u001B[39;00m\u001B[38;5;21;01mdistribution\u001B[39;00m \u001B[38;5;28;01mimport\u001B[39;00m Distribution\n\u001B[0;32m     31\u001B[0m \u001B[38;5;28;01mfrom\u001B[39;00m \u001B[38;5;21;01mpymc\u001B[39;00m\u001B[38;5;21;01m.\u001B[39;00m\u001B[38;5;21;01mmodel\u001B[39;00m \u001B[38;5;28;01mimport\u001B[39;00m modelcontext\n\u001B[0;32m     32\u001B[0m \u001B[38;5;28;01mfrom\u001B[39;00m \u001B[38;5;21;01mpymc\u001B[39;00m\u001B[38;5;21;01m.\u001B[39;00m\u001B[38;5;21;01mpytensorf\u001B[39;00m \u001B[38;5;28;01mimport\u001B[39;00m compile_pymc, walk_model\n",
      "File \u001B[1;32mE:\\envis\\Anaconda3\\envs\\ML_lab\\Lib\\site-packages\\pymc\\distributions\\__init__.py:15\u001B[0m\n\u001B[0;32m      1\u001B[0m \u001B[38;5;66;03m#   Copyright 2023 The PyMC Developers\u001B[39;00m\n\u001B[0;32m      2\u001B[0m \u001B[38;5;66;03m#\u001B[39;00m\n\u001B[0;32m      3\u001B[0m \u001B[38;5;66;03m#   Licensed under the Apache License, Version 2.0 (the \"License\");\u001B[39;00m\n\u001B[1;32m   (...)\u001B[0m\n\u001B[0;32m     12\u001B[0m \u001B[38;5;66;03m#   See the License for the specific language governing permissions and\u001B[39;00m\n\u001B[0;32m     13\u001B[0m \u001B[38;5;66;03m#   limitations under the License.\u001B[39;00m\n\u001B[1;32m---> 15\u001B[0m \u001B[38;5;28;01mfrom\u001B[39;00m \u001B[38;5;21;01mpymc\u001B[39;00m\u001B[38;5;21;01m.\u001B[39;00m\u001B[38;5;21;01mdistributions\u001B[39;00m\u001B[38;5;21;01m.\u001B[39;00m\u001B[38;5;21;01mbound\u001B[39;00m \u001B[38;5;28;01mimport\u001B[39;00m Bound\n\u001B[0;32m     16\u001B[0m \u001B[38;5;28;01mfrom\u001B[39;00m \u001B[38;5;21;01mpymc\u001B[39;00m\u001B[38;5;21;01m.\u001B[39;00m\u001B[38;5;21;01mdistributions\u001B[39;00m\u001B[38;5;21;01m.\u001B[39;00m\u001B[38;5;21;01mcensored\u001B[39;00m \u001B[38;5;28;01mimport\u001B[39;00m Censored\n\u001B[0;32m     17\u001B[0m \u001B[38;5;28;01mfrom\u001B[39;00m \u001B[38;5;21;01mpymc\u001B[39;00m\u001B[38;5;21;01m.\u001B[39;00m\u001B[38;5;21;01mdistributions\u001B[39;00m\u001B[38;5;21;01m.\u001B[39;00m\u001B[38;5;21;01mcontinuous\u001B[39;00m \u001B[38;5;28;01mimport\u001B[39;00m (\n\u001B[0;32m     18\u001B[0m     AsymmetricLaplace,\n\u001B[0;32m     19\u001B[0m     Beta,\n\u001B[1;32m   (...)\u001B[0m\n\u001B[0;32m     51\u001B[0m     Weibull,\n\u001B[0;32m     52\u001B[0m )\n",
      "File \u001B[1;32mE:\\envis\\Anaconda3\\envs\\ML_lab\\Lib\\site-packages\\pymc\\distributions\\bound.py:23\u001B[0m\n\u001B[0;32m     20\u001B[0m \u001B[38;5;28;01mfrom\u001B[39;00m \u001B[38;5;21;01mpytensor\u001B[39;00m\u001B[38;5;21;01m.\u001B[39;00m\u001B[38;5;21;01mtensor\u001B[39;00m\u001B[38;5;21;01m.\u001B[39;00m\u001B[38;5;21;01mrandom\u001B[39;00m\u001B[38;5;21;01m.\u001B[39;00m\u001B[38;5;21;01mop\u001B[39;00m \u001B[38;5;28;01mimport\u001B[39;00m RandomVariable\n\u001B[0;32m     21\u001B[0m \u001B[38;5;28;01mfrom\u001B[39;00m \u001B[38;5;21;01mpytensor\u001B[39;00m\u001B[38;5;21;01m.\u001B[39;00m\u001B[38;5;21;01mtensor\u001B[39;00m\u001B[38;5;21;01m.\u001B[39;00m\u001B[38;5;21;01mvar\u001B[39;00m \u001B[38;5;28;01mimport\u001B[39;00m TensorVariable\n\u001B[1;32m---> 23\u001B[0m \u001B[38;5;28;01mfrom\u001B[39;00m \u001B[38;5;21;01mpymc\u001B[39;00m\u001B[38;5;21;01m.\u001B[39;00m\u001B[38;5;21;01mdistributions\u001B[39;00m\u001B[38;5;21;01m.\u001B[39;00m\u001B[38;5;21;01mcontinuous\u001B[39;00m \u001B[38;5;28;01mimport\u001B[39;00m BoundedContinuous, bounded_cont_transform\n\u001B[0;32m     24\u001B[0m \u001B[38;5;28;01mfrom\u001B[39;00m \u001B[38;5;21;01mpymc\u001B[39;00m\u001B[38;5;21;01m.\u001B[39;00m\u001B[38;5;21;01mdistributions\u001B[39;00m\u001B[38;5;21;01m.\u001B[39;00m\u001B[38;5;21;01mdist_math\u001B[39;00m \u001B[38;5;28;01mimport\u001B[39;00m check_parameters\n\u001B[0;32m     25\u001B[0m \u001B[38;5;28;01mfrom\u001B[39;00m \u001B[38;5;21;01mpymc\u001B[39;00m\u001B[38;5;21;01m.\u001B[39;00m\u001B[38;5;21;01mdistributions\u001B[39;00m\u001B[38;5;21;01m.\u001B[39;00m\u001B[38;5;21;01mdistribution\u001B[39;00m \u001B[38;5;28;01mimport\u001B[39;00m Continuous, Discrete\n",
      "File \u001B[1;32mE:\\envis\\Anaconda3\\envs\\ML_lab\\Lib\\site-packages\\pymc\\distributions\\continuous.py:60\u001B[0m\n\u001B[0;32m     57\u001B[0m \u001B[38;5;28;01mfrom\u001B[39;00m \u001B[38;5;21;01mpytensor\u001B[39;00m\u001B[38;5;21;01m.\u001B[39;00m\u001B[38;5;21;01mtensor\u001B[39;00m\u001B[38;5;21;01m.\u001B[39;00m\u001B[38;5;21;01mvar\u001B[39;00m \u001B[38;5;28;01mimport\u001B[39;00m TensorConstant\n\u001B[0;32m     59\u001B[0m \u001B[38;5;28;01mfrom\u001B[39;00m \u001B[38;5;21;01mpymc\u001B[39;00m\u001B[38;5;21;01m.\u001B[39;00m\u001B[38;5;21;01mlogprob\u001B[39;00m\u001B[38;5;21;01m.\u001B[39;00m\u001B[38;5;21;01mabstract\u001B[39;00m \u001B[38;5;28;01mimport\u001B[39;00m _logcdf_helper, _logprob_helper\n\u001B[1;32m---> 60\u001B[0m \u001B[38;5;28;01mfrom\u001B[39;00m \u001B[38;5;21;01mpymc\u001B[39;00m\u001B[38;5;21;01m.\u001B[39;00m\u001B[38;5;21;01mlogprob\u001B[39;00m\u001B[38;5;21;01m.\u001B[39;00m\u001B[38;5;21;01mbasic\u001B[39;00m \u001B[38;5;28;01mimport\u001B[39;00m icdf\n\u001B[0;32m     62\u001B[0m \u001B[38;5;28;01mtry\u001B[39;00m:\n\u001B[0;32m     63\u001B[0m     \u001B[38;5;28;01mfrom\u001B[39;00m \u001B[38;5;21;01mpolyagamma\u001B[39;00m \u001B[38;5;28;01mimport\u001B[39;00m polyagamma_cdf, polyagamma_pdf, random_polyagamma\n",
      "File \u001B[1;32mE:\\envis\\Anaconda3\\envs\\ML_lab\\Lib\\site-packages\\pymc\\logprob\\__init__.py:37\u001B[0m\n\u001B[0;32m      1\u001B[0m \u001B[38;5;66;03m#   Copyright 2023 The PyMC Developers\u001B[39;00m\n\u001B[0;32m      2\u001B[0m \u001B[38;5;66;03m#\u001B[39;00m\n\u001B[0;32m      3\u001B[0m \u001B[38;5;66;03m#   Licensed under the Apache License, Version 2.0 (the \"License\");\u001B[39;00m\n\u001B[1;32m   (...)\u001B[0m\n\u001B[0;32m     34\u001B[0m \u001B[38;5;66;03m#   OUT OF OR IN CONNECTION WITH THE SOFTWARE OR THE USE OR OTHER DEALINGS IN THE\u001B[39;00m\n\u001B[0;32m     35\u001B[0m \u001B[38;5;66;03m#   SOFTWARE.\u001B[39;00m\n\u001B[1;32m---> 37\u001B[0m \u001B[38;5;28;01mfrom\u001B[39;00m \u001B[38;5;21;01mpymc\u001B[39;00m\u001B[38;5;21;01m.\u001B[39;00m\u001B[38;5;21;01mlogprob\u001B[39;00m\u001B[38;5;21;01m.\u001B[39;00m\u001B[38;5;21;01mbasic\u001B[39;00m \u001B[38;5;28;01mimport\u001B[39;00m (\n\u001B[0;32m     38\u001B[0m     conditional_logp,\n\u001B[0;32m     39\u001B[0m     icdf,\n\u001B[0;32m     40\u001B[0m     logcdf,\n\u001B[0;32m     41\u001B[0m     logp,\n\u001B[0;32m     42\u001B[0m     transformed_conditional_logp,\n\u001B[0;32m     43\u001B[0m )\n\u001B[0;32m     45\u001B[0m \u001B[38;5;66;03m# isort: off\u001B[39;00m\n\u001B[0;32m     46\u001B[0m \u001B[38;5;66;03m# Add rewrites to the DBs\u001B[39;00m\n\u001B[0;32m     47\u001B[0m \u001B[38;5;28;01mimport\u001B[39;00m \u001B[38;5;21;01mpymc\u001B[39;00m\u001B[38;5;21;01m.\u001B[39;00m\u001B[38;5;21;01mlogprob\u001B[39;00m\u001B[38;5;21;01m.\u001B[39;00m\u001B[38;5;21;01mbinary\u001B[39;00m\n",
      "File \u001B[1;32mE:\\envis\\Anaconda3\\envs\\ML_lab\\Lib\\site-packages\\pymc\\logprob\\basic.py:65\u001B[0m\n\u001B[0;32m     56\u001B[0m \u001B[38;5;28;01mfrom\u001B[39;00m \u001B[38;5;21;01mtyping_extensions\u001B[39;00m \u001B[38;5;28;01mimport\u001B[39;00m TypeAlias\n\u001B[0;32m     58\u001B[0m \u001B[38;5;28;01mfrom\u001B[39;00m \u001B[38;5;21;01mpymc\u001B[39;00m\u001B[38;5;21;01m.\u001B[39;00m\u001B[38;5;21;01mlogprob\u001B[39;00m\u001B[38;5;21;01m.\u001B[39;00m\u001B[38;5;21;01mabstract\u001B[39;00m \u001B[38;5;28;01mimport\u001B[39;00m (\n\u001B[0;32m     59\u001B[0m     MeasurableVariable,\n\u001B[0;32m     60\u001B[0m     _icdf_helper,\n\u001B[1;32m   (...)\u001B[0m\n\u001B[0;32m     63\u001B[0m     _logprob_helper,\n\u001B[0;32m     64\u001B[0m )\n\u001B[1;32m---> 65\u001B[0m \u001B[38;5;28;01mfrom\u001B[39;00m \u001B[38;5;21;01mpymc\u001B[39;00m\u001B[38;5;21;01m.\u001B[39;00m\u001B[38;5;21;01mlogprob\u001B[39;00m\u001B[38;5;21;01m.\u001B[39;00m\u001B[38;5;21;01mrewriting\u001B[39;00m \u001B[38;5;28;01mimport\u001B[39;00m cleanup_ir, construct_ir_fgraph\n\u001B[0;32m     66\u001B[0m \u001B[38;5;28;01mfrom\u001B[39;00m \u001B[38;5;21;01mpymc\u001B[39;00m\u001B[38;5;21;01m.\u001B[39;00m\u001B[38;5;21;01mlogprob\u001B[39;00m\u001B[38;5;21;01m.\u001B[39;00m\u001B[38;5;21;01mtransforms\u001B[39;00m \u001B[38;5;28;01mimport\u001B[39;00m RVTransform, TransformValuesRewrite\n\u001B[0;32m     67\u001B[0m \u001B[38;5;28;01mfrom\u001B[39;00m \u001B[38;5;21;01mpymc\u001B[39;00m\u001B[38;5;21;01m.\u001B[39;00m\u001B[38;5;21;01mlogprob\u001B[39;00m\u001B[38;5;21;01m.\u001B[39;00m\u001B[38;5;21;01mutils\u001B[39;00m \u001B[38;5;28;01mimport\u001B[39;00m find_rvs_in_graph, rvs_to_value_vars\n",
      "File \u001B[1;32mE:\\envis\\Anaconda3\\envs\\ML_lab\\Lib\\site-packages\\pymc\\logprob\\rewriting.py:84\u001B[0m\n\u001B[0;32m     81\u001B[0m \u001B[38;5;28;01mfrom\u001B[39;00m \u001B[38;5;21;01mpytensor\u001B[39;00m\u001B[38;5;21;01m.\u001B[39;00m\u001B[38;5;21;01mtensor\u001B[39;00m\u001B[38;5;21;01m.\u001B[39;00m\u001B[38;5;21;01mvar\u001B[39;00m \u001B[38;5;28;01mimport\u001B[39;00m TensorVariable\n\u001B[0;32m     83\u001B[0m \u001B[38;5;28;01mfrom\u001B[39;00m \u001B[38;5;21;01mpymc\u001B[39;00m\u001B[38;5;21;01m.\u001B[39;00m\u001B[38;5;21;01mlogprob\u001B[39;00m\u001B[38;5;21;01m.\u001B[39;00m\u001B[38;5;21;01mabstract\u001B[39;00m \u001B[38;5;28;01mimport\u001B[39;00m MeasurableVariable\n\u001B[1;32m---> 84\u001B[0m \u001B[38;5;28;01mfrom\u001B[39;00m \u001B[38;5;21;01mpymc\u001B[39;00m\u001B[38;5;21;01m.\u001B[39;00m\u001B[38;5;21;01mlogprob\u001B[39;00m\u001B[38;5;21;01m.\u001B[39;00m\u001B[38;5;21;01mutils\u001B[39;00m \u001B[38;5;28;01mimport\u001B[39;00m DiracDelta, indices_from_subtensor\n\u001B[0;32m     86\u001B[0m inc_subtensor_ops \u001B[38;5;241m=\u001B[39m (IncSubtensor, AdvancedIncSubtensor, AdvancedIncSubtensor1)\n\u001B[0;32m     87\u001B[0m subtensor_ops \u001B[38;5;241m=\u001B[39m (AdvancedSubtensor, AdvancedSubtensor1, Subtensor)\n",
      "File \u001B[1;32mE:\\envis\\Anaconda3\\envs\\ML_lab\\Lib\\site-packages\\pymc\\logprob\\utils.py:67\u001B[0m\n\u001B[0;32m     64\u001B[0m \u001B[38;5;28;01mfrom\u001B[39;00m \u001B[38;5;21;01mpytensor\u001B[39;00m\u001B[38;5;21;01m.\u001B[39;00m\u001B[38;5;21;01mtensor\u001B[39;00m\u001B[38;5;21;01m.\u001B[39;00m\u001B[38;5;21;01mvar\u001B[39;00m \u001B[38;5;28;01mimport\u001B[39;00m TensorVariable\n\u001B[0;32m     66\u001B[0m \u001B[38;5;28;01mfrom\u001B[39;00m \u001B[38;5;21;01mpymc\u001B[39;00m\u001B[38;5;21;01m.\u001B[39;00m\u001B[38;5;21;01mlogprob\u001B[39;00m\u001B[38;5;21;01m.\u001B[39;00m\u001B[38;5;21;01mabstract\u001B[39;00m \u001B[38;5;28;01mimport\u001B[39;00m MeasurableVariable, _logprob\n\u001B[1;32m---> 67\u001B[0m \u001B[38;5;28;01mfrom\u001B[39;00m \u001B[38;5;21;01mpymc\u001B[39;00m\u001B[38;5;21;01m.\u001B[39;00m\u001B[38;5;21;01mutil\u001B[39;00m \u001B[38;5;28;01mimport\u001B[39;00m makeiter\n\u001B[0;32m     70\u001B[0m \u001B[38;5;28;01mdef\u001B[39;00m \u001B[38;5;21mwalk_model\u001B[39m(\n\u001B[0;32m     71\u001B[0m     graphs: Iterable[TensorVariable],\n\u001B[0;32m     72\u001B[0m     walk_past_rvs: \u001B[38;5;28mbool\u001B[39m \u001B[38;5;241m=\u001B[39m \u001B[38;5;28;01mFalse\u001B[39;00m,\n\u001B[0;32m     73\u001B[0m     stop_at_vars: Optional[Set[TensorVariable]] \u001B[38;5;241m=\u001B[39m \u001B[38;5;28;01mNone\u001B[39;00m,\n\u001B[0;32m     74\u001B[0m     expand_fn: Callable[[TensorVariable], List[TensorVariable]] \u001B[38;5;241m=\u001B[39m \u001B[38;5;28;01mlambda\u001B[39;00m var: [],\n\u001B[0;32m     75\u001B[0m ) \u001B[38;5;241m-\u001B[39m\u001B[38;5;241m>\u001B[39m Generator[TensorVariable, \u001B[38;5;28;01mNone\u001B[39;00m, \u001B[38;5;28;01mNone\u001B[39;00m]:\n\u001B[0;32m     76\u001B[0m \u001B[38;5;250m    \u001B[39m\u001B[38;5;124;03m\"\"\"Walk model graphs and yield their nodes.\u001B[39;00m\n\u001B[0;32m     77\u001B[0m \n\u001B[0;32m     78\u001B[0m \u001B[38;5;124;03m    By default, these walks will not go past ``MeasurableVariable`` nodes.\u001B[39;00m\n\u001B[1;32m   (...)\u001B[0m\n\u001B[0;32m     89\u001B[0m \u001B[38;5;124;03m        A function that returns the next variable(s) to be traversed.\u001B[39;00m\n\u001B[0;32m     90\u001B[0m \u001B[38;5;124;03m    \"\"\"\u001B[39;00m\n",
      "File \u001B[1;32mE:\\envis\\Anaconda3\\envs\\ML_lab\\Lib\\site-packages\\pymc\\util.py:20\u001B[0m\n\u001B[0;32m     16\u001B[0m \u001B[38;5;28;01mimport\u001B[39;00m \u001B[38;5;21;01mwarnings\u001B[39;00m\n\u001B[0;32m     18\u001B[0m \u001B[38;5;28;01mfrom\u001B[39;00m \u001B[38;5;21;01mtyping\u001B[39;00m \u001B[38;5;28;01mimport\u001B[39;00m Any, Dict, List, Optional, Sequence, Tuple, Union, cast\n\u001B[1;32m---> 20\u001B[0m \u001B[38;5;28;01mimport\u001B[39;00m \u001B[38;5;21;01marviz\u001B[39;00m\n\u001B[0;32m     21\u001B[0m \u001B[38;5;28;01mimport\u001B[39;00m \u001B[38;5;21;01mcloudpickle\u001B[39;00m\n\u001B[0;32m     22\u001B[0m \u001B[38;5;28;01mimport\u001B[39;00m \u001B[38;5;21;01mnumpy\u001B[39;00m \u001B[38;5;28;01mas\u001B[39;00m \u001B[38;5;21;01mnp\u001B[39;00m\n",
      "File \u001B[1;32mE:\\envis\\Anaconda3\\envs\\ML_lab\\Lib\\site-packages\\arviz\\__init__.py:33\u001B[0m\n\u001B[0;32m     27\u001B[0m         \u001B[38;5;28msuper\u001B[39m()\u001B[38;5;241m.\u001B[39m_log(level, msg, \u001B[38;5;241m*\u001B[39margs, \u001B[38;5;241m*\u001B[39m\u001B[38;5;241m*\u001B[39mkwargs)\n\u001B[0;32m     30\u001B[0m _log \u001B[38;5;241m=\u001B[39m Logger(\u001B[38;5;124m\"\u001B[39m\u001B[38;5;124marviz\u001B[39m\u001B[38;5;124m\"\u001B[39m)\n\u001B[1;32m---> 33\u001B[0m \u001B[38;5;28;01mfrom\u001B[39;00m \u001B[38;5;21;01m.\u001B[39;00m\u001B[38;5;21;01mdata\u001B[39;00m \u001B[38;5;28;01mimport\u001B[39;00m \u001B[38;5;241m*\u001B[39m\n\u001B[0;32m     34\u001B[0m \u001B[38;5;28;01mfrom\u001B[39;00m \u001B[38;5;21;01m.\u001B[39;00m\u001B[38;5;21;01mplots\u001B[39;00m \u001B[38;5;28;01mimport\u001B[39;00m \u001B[38;5;241m*\u001B[39m\n\u001B[0;32m     35\u001B[0m \u001B[38;5;28;01mfrom\u001B[39;00m \u001B[38;5;21;01m.\u001B[39;00m\u001B[38;5;21;01mplots\u001B[39;00m\u001B[38;5;21;01m.\u001B[39;00m\u001B[38;5;21;01mbackends\u001B[39;00m \u001B[38;5;28;01mimport\u001B[39;00m \u001B[38;5;241m*\u001B[39m\n",
      "File \u001B[1;32mE:\\envis\\Anaconda3\\envs\\ML_lab\\Lib\\site-packages\\arviz\\data\\__init__.py:2\u001B[0m\n\u001B[0;32m      1\u001B[0m \u001B[38;5;124;03m\"\"\"Code for loading and manipulating data structures.\"\"\"\u001B[39;00m\n\u001B[1;32m----> 2\u001B[0m \u001B[38;5;28;01mfrom\u001B[39;00m \u001B[38;5;21;01m.\u001B[39;00m\u001B[38;5;21;01mbase\u001B[39;00m \u001B[38;5;28;01mimport\u001B[39;00m CoordSpec, DimSpec, dict_to_dataset, numpy_to_data_array\n\u001B[0;32m      3\u001B[0m \u001B[38;5;28;01mfrom\u001B[39;00m \u001B[38;5;21;01m.\u001B[39;00m\u001B[38;5;21;01mconverters\u001B[39;00m \u001B[38;5;28;01mimport\u001B[39;00m convert_to_dataset, convert_to_inference_data\n\u001B[0;32m      4\u001B[0m \u001B[38;5;28;01mfrom\u001B[39;00m \u001B[38;5;21;01m.\u001B[39;00m\u001B[38;5;21;01mdatasets\u001B[39;00m \u001B[38;5;28;01mimport\u001B[39;00m clear_data_home, list_datasets, load_arviz_data\n",
      "File \u001B[1;32mE:\\envis\\Anaconda3\\envs\\ML_lab\\Lib\\site-packages\\arviz\\data\\base.py:20\u001B[0m\n\u001B[0;32m     15\u001B[0m \u001B[38;5;28;01mexcept\u001B[39;00m \u001B[38;5;167;01mImportError\u001B[39;00m:\n\u001B[0;32m     16\u001B[0m     \u001B[38;5;66;03m# mypy struggles with conditional imports expressed as catching ImportError:\u001B[39;00m\n\u001B[0;32m     17\u001B[0m     \u001B[38;5;66;03m# https://github.com/python/mypy/issues/1153\u001B[39;00m\n\u001B[0;32m     18\u001B[0m     \u001B[38;5;28;01mimport\u001B[39;00m \u001B[38;5;21;01mjson\u001B[39;00m  \u001B[38;5;66;03m# type: ignore\u001B[39;00m\n\u001B[1;32m---> 20\u001B[0m \u001B[38;5;28;01mfrom\u001B[39;00m \u001B[38;5;21;01m.\u001B[39;00m\u001B[38;5;21;01m.\u001B[39;00m \u001B[38;5;28;01mimport\u001B[39;00m __version__, utils\n\u001B[0;32m     21\u001B[0m \u001B[38;5;28;01mfrom\u001B[39;00m \u001B[38;5;21;01m.\u001B[39;00m\u001B[38;5;21;01m.\u001B[39;00m\u001B[38;5;21;01mrcparams\u001B[39;00m \u001B[38;5;28;01mimport\u001B[39;00m rcParams\n\u001B[0;32m     23\u001B[0m CoordSpec \u001B[38;5;241m=\u001B[39m Dict[\u001B[38;5;28mstr\u001B[39m, List[Any]]\n",
      "File \u001B[1;32mE:\\envis\\Anaconda3\\envs\\ML_lab\\Lib\\site-packages\\arviz\\utils.py:667\u001B[0m\n\u001B[0;32m    658\u001B[0m \u001B[38;5;250m    \u001B[39m\u001B[38;5;124;03m\"\"\"Lazily load the resource files into memory the first time they are needed.\u001B[39;00m\n\u001B[0;32m    659\u001B[0m \n\u001B[0;32m    660\u001B[0m \u001B[38;5;124;03m    Clone from xarray.core.formatted_html_template.\u001B[39;00m\n\u001B[0;32m    661\u001B[0m \u001B[38;5;124;03m    \"\"\"\u001B[39;00m\n\u001B[0;32m    662\u001B[0m     \u001B[38;5;28;01mreturn\u001B[39;00m [\n\u001B[0;32m    663\u001B[0m         importlib\u001B[38;5;241m.\u001B[39mresources\u001B[38;5;241m.\u001B[39mfiles(\u001B[38;5;124m\"\u001B[39m\u001B[38;5;124marviz\u001B[39m\u001B[38;5;124m\"\u001B[39m)\u001B[38;5;241m.\u001B[39mjoinpath(fname)\u001B[38;5;241m.\u001B[39mread_text() \u001B[38;5;28;01mfor\u001B[39;00m fname \u001B[38;5;129;01min\u001B[39;00m STATIC_FILES\n\u001B[0;32m    664\u001B[0m     ]\n\u001B[1;32m--> 667\u001B[0m \u001B[38;5;28;01mclass\u001B[39;00m \u001B[38;5;21;01mHtmlTemplate\u001B[39;00m:\n\u001B[0;32m    668\u001B[0m \u001B[38;5;250m    \u001B[39m\u001B[38;5;124;03m\"\"\"Contain html templates for InferenceData repr.\"\"\"\u001B[39;00m\n\u001B[0;32m    670\u001B[0m     html_template \u001B[38;5;241m=\u001B[39m \u001B[38;5;124m\"\"\"\u001B[39m\n\u001B[0;32m    671\u001B[0m \u001B[38;5;124m            <div>\u001B[39m\n\u001B[0;32m    672\u001B[0m \u001B[38;5;124m              <div class=\u001B[39m\u001B[38;5;124m'\u001B[39m\u001B[38;5;124mxr-header\u001B[39m\u001B[38;5;124m'\u001B[39m\u001B[38;5;124m>\u001B[39m\n\u001B[1;32m   (...)\u001B[0m\n\u001B[0;32m    678\u001B[0m \u001B[38;5;124m            </div>\u001B[39m\n\u001B[0;32m    679\u001B[0m \u001B[38;5;124m            \u001B[39m\u001B[38;5;124m\"\"\"\u001B[39m\n",
      "File \u001B[1;32mE:\\envis\\Anaconda3\\envs\\ML_lab\\Lib\\site-packages\\arviz\\utils.py:692\u001B[0m, in \u001B[0;36mHtmlTemplate\u001B[1;34m()\u001B[0m\n\u001B[0;32m    670\u001B[0m html_template \u001B[38;5;241m=\u001B[39m \u001B[38;5;124m\"\"\"\u001B[39m\n\u001B[0;32m    671\u001B[0m \u001B[38;5;124m        <div>\u001B[39m\n\u001B[0;32m    672\u001B[0m \u001B[38;5;124m          <div class=\u001B[39m\u001B[38;5;124m'\u001B[39m\u001B[38;5;124mxr-header\u001B[39m\u001B[38;5;124m'\u001B[39m\u001B[38;5;124m>\u001B[39m\n\u001B[1;32m   (...)\u001B[0m\n\u001B[0;32m    678\u001B[0m \u001B[38;5;124m        </div>\u001B[39m\n\u001B[0;32m    679\u001B[0m \u001B[38;5;124m        \u001B[39m\u001B[38;5;124m\"\"\"\u001B[39m\n\u001B[0;32m    680\u001B[0m element_template \u001B[38;5;241m=\u001B[39m \u001B[38;5;124m\"\"\"\u001B[39m\n\u001B[0;32m    681\u001B[0m \u001B[38;5;124m        <li class = \u001B[39m\u001B[38;5;124m\"\u001B[39m\u001B[38;5;124mxr-section-item\u001B[39m\u001B[38;5;124m\"\u001B[39m\u001B[38;5;124m>\u001B[39m\n\u001B[0;32m    682\u001B[0m \u001B[38;5;124m              <input id=\u001B[39m\u001B[38;5;124m\"\u001B[39m\u001B[38;5;124midata_\u001B[39m\u001B[38;5;132;01m{group_id}\u001B[39;00m\u001B[38;5;124m\"\u001B[39m\u001B[38;5;124m class=\u001B[39m\u001B[38;5;124m\"\u001B[39m\u001B[38;5;124mxr-section-summary-in\u001B[39m\u001B[38;5;124m\"\u001B[39m\u001B[38;5;124m type=\u001B[39m\u001B[38;5;124m\"\u001B[39m\u001B[38;5;124mcheckbox\u001B[39m\u001B[38;5;124m\"\u001B[39m\u001B[38;5;124m>\u001B[39m\n\u001B[1;32m   (...)\u001B[0m\n\u001B[0;32m    690\u001B[0m \u001B[38;5;124m        </li>\u001B[39m\n\u001B[0;32m    691\u001B[0m \u001B[38;5;124m        \u001B[39m\u001B[38;5;124m\"\"\"\u001B[39m\n\u001B[1;32m--> 692\u001B[0m _, css_style \u001B[38;5;241m=\u001B[39m _load_static_files()  \u001B[38;5;66;03m# pylint: disable=protected-access\u001B[39;00m\n\u001B[0;32m    693\u001B[0m specific_style \u001B[38;5;241m=\u001B[39m \u001B[38;5;124m\"\u001B[39m\u001B[38;5;124m.xr-wrap\u001B[39m\u001B[38;5;124m{\u001B[39m\u001B[38;5;124mwidth:700px!important;}\u001B[39m\u001B[38;5;124m\"\u001B[39m\n\u001B[0;32m    694\u001B[0m css_template \u001B[38;5;241m=\u001B[39m \u001B[38;5;124mf\u001B[39m\u001B[38;5;124m\"\u001B[39m\u001B[38;5;124m<style> \u001B[39m\u001B[38;5;132;01m{\u001B[39;00mcss_style\u001B[38;5;132;01m}\u001B[39;00m\u001B[38;5;132;01m{\u001B[39;00mspecific_style\u001B[38;5;132;01m}\u001B[39;00m\u001B[38;5;124m </style>\u001B[39m\u001B[38;5;124m\"\u001B[39m\n",
      "File \u001B[1;32mE:\\envis\\Anaconda3\\envs\\ML_lab\\Lib\\site-packages\\arviz\\utils.py:662\u001B[0m, in \u001B[0;36m_load_static_files\u001B[1;34m()\u001B[0m\n\u001B[0;32m    656\u001B[0m \u001B[38;5;129m@lru_cache\u001B[39m(\u001B[38;5;28;01mNone\u001B[39;00m)\n\u001B[0;32m    657\u001B[0m \u001B[38;5;28;01mdef\u001B[39;00m \u001B[38;5;21m_load_static_files\u001B[39m():\n\u001B[0;32m    658\u001B[0m \u001B[38;5;250m    \u001B[39m\u001B[38;5;124;03m\"\"\"Lazily load the resource files into memory the first time they are needed.\u001B[39;00m\n\u001B[0;32m    659\u001B[0m \n\u001B[0;32m    660\u001B[0m \u001B[38;5;124;03m    Clone from xarray.core.formatted_html_template.\u001B[39;00m\n\u001B[0;32m    661\u001B[0m \u001B[38;5;124;03m    \"\"\"\u001B[39;00m\n\u001B[1;32m--> 662\u001B[0m     \u001B[38;5;28;01mreturn\u001B[39;00m [\n\u001B[0;32m    663\u001B[0m         importlib\u001B[38;5;241m.\u001B[39mresources\u001B[38;5;241m.\u001B[39mfiles(\u001B[38;5;124m\"\u001B[39m\u001B[38;5;124marviz\u001B[39m\u001B[38;5;124m\"\u001B[39m)\u001B[38;5;241m.\u001B[39mjoinpath(fname)\u001B[38;5;241m.\u001B[39mread_text() \u001B[38;5;28;01mfor\u001B[39;00m fname \u001B[38;5;129;01min\u001B[39;00m STATIC_FILES\n\u001B[0;32m    664\u001B[0m     ]\n",
      "File \u001B[1;32mE:\\envis\\Anaconda3\\envs\\ML_lab\\Lib\\site-packages\\arviz\\utils.py:663\u001B[0m, in \u001B[0;36m<listcomp>\u001B[1;34m(.0)\u001B[0m\n\u001B[0;32m    656\u001B[0m \u001B[38;5;129m@lru_cache\u001B[39m(\u001B[38;5;28;01mNone\u001B[39;00m)\n\u001B[0;32m    657\u001B[0m \u001B[38;5;28;01mdef\u001B[39;00m \u001B[38;5;21m_load_static_files\u001B[39m():\n\u001B[0;32m    658\u001B[0m \u001B[38;5;250m    \u001B[39m\u001B[38;5;124;03m\"\"\"Lazily load the resource files into memory the first time they are needed.\u001B[39;00m\n\u001B[0;32m    659\u001B[0m \n\u001B[0;32m    660\u001B[0m \u001B[38;5;124;03m    Clone from xarray.core.formatted_html_template.\u001B[39;00m\n\u001B[0;32m    661\u001B[0m \u001B[38;5;124;03m    \"\"\"\u001B[39;00m\n\u001B[0;32m    662\u001B[0m     \u001B[38;5;28;01mreturn\u001B[39;00m [\n\u001B[1;32m--> 663\u001B[0m         importlib\u001B[38;5;241m.\u001B[39mresources\u001B[38;5;241m.\u001B[39mfiles(\u001B[38;5;124m\"\u001B[39m\u001B[38;5;124marviz\u001B[39m\u001B[38;5;124m\"\u001B[39m)\u001B[38;5;241m.\u001B[39mjoinpath(fname)\u001B[38;5;241m.\u001B[39mread_text() \u001B[38;5;28;01mfor\u001B[39;00m fname \u001B[38;5;129;01min\u001B[39;00m STATIC_FILES\n\u001B[0;32m    664\u001B[0m     ]\n",
      "File \u001B[1;32mE:\\envis\\Anaconda3\\envs\\ML_lab\\Lib\\pathlib.py:1059\u001B[0m, in \u001B[0;36mPath.read_text\u001B[1;34m(self, encoding, errors)\u001B[0m\n\u001B[0;32m   1057\u001B[0m encoding \u001B[38;5;241m=\u001B[39m io\u001B[38;5;241m.\u001B[39mtext_encoding(encoding)\n\u001B[0;32m   1058\u001B[0m \u001B[38;5;28;01mwith\u001B[39;00m \u001B[38;5;28mself\u001B[39m\u001B[38;5;241m.\u001B[39mopen(mode\u001B[38;5;241m=\u001B[39m\u001B[38;5;124m'\u001B[39m\u001B[38;5;124mr\u001B[39m\u001B[38;5;124m'\u001B[39m, encoding\u001B[38;5;241m=\u001B[39mencoding, errors\u001B[38;5;241m=\u001B[39merrors) \u001B[38;5;28;01mas\u001B[39;00m f:\n\u001B[1;32m-> 1059\u001B[0m     \u001B[38;5;28;01mreturn\u001B[39;00m f\u001B[38;5;241m.\u001B[39mread()\n",
      "\u001B[1;31mUnicodeDecodeError\u001B[0m: 'gbk' codec can't decode byte 0xba in position 2367: illegal multibyte sequence"
     ]
    }
   ],
   "source": [
    "import pymc as pm\n",
    "import arviz as az"
   ]
  },
  {
   "cell_type": "markdown",
   "metadata": {},
   "source": [
    "### 3.1) Generating some example data for our linear model\n",
    "We will first generate some example data $\\mathcal{D}=\\{(x_i, y_i)\\}_N$ where $$ y_i = w_0 + w_1x_i + \\epsilon$$ with $w_0=6$, $w_1=2$, $\\epsilon \\sim \\mathcal{N}(\\mu=0, \\sigma=1)$."
   ]
  },
  {
   "cell_type": "code",
   "execution_count": 22,
   "metadata": {
    "ExecuteTime": {
     "end_time": "2023-10-15T22:18:37.628222600Z",
     "start_time": "2023-10-15T22:18:37.619717Z"
    }
   },
   "outputs": [],
   "source": [
    "n = 50\n",
    "true_w0 = 6\n",
    "true_w1 = 2\n",
    "true_sigma = 1\n",
    "\n",
    "x = np.linspace(0, 1, n)\n",
    "y = true_w0 + true_w1*x + np.random.normal(scale=true_sigma, size=n)"
   ]
  },
  {
   "cell_type": "markdown",
   "metadata": {},
   "source": [
    "Make a scatter plot of the data points and plot the line corresponding to the mean of $y$ using the known parameters."
   ]
  },
  {
   "cell_type": "code",
   "execution_count": 23,
   "metadata": {
    "ExecuteTime": {
     "end_time": "2023-10-15T22:18:39.917031600Z",
     "start_time": "2023-10-15T22:18:39.856826800Z"
    }
   },
   "outputs": [
    {
     "data": {
      "text/plain": "<Figure size 500x500 with 1 Axes>",
      "image/png": "[encoded data removed]"
     },
     "metadata": {},
     "output_type": "display_data"
    }
   ],
   "source": [
    "# write your code here\n",
    "plt.figure(figsize=(5,5))\n",
    "plt.scatter(x, y, marker='x')\n",
    "plt.plot(x, true_w0 + true_w1*x, c='r')\n",
    "plt.xlabel('$x$')\n",
    "plt.ylabel('$y$')\n",
    "plt.show()"
   ]
  },
  {
   "cell_type": "markdown",
   "metadata": {},
   "source": [
    "### 3.2) Bayesian Linear Regression model in PyMC\n",
    "\n",
    "Without knowledge of the true model parameters, the goal of Bayesian linear regression is to obtain a distribution (posterior) over the model parameters from the data, $P(w_0,w_1,\\sigma \\vert \\mathcal{D})$. First we need to define a prior over each of the three parameters. Let's choose fairly 'flat' priors (high variance) representing a lack of prior knowledge as to the true values of the parameters:\n",
    "\n",
    "- $p(w_0) = \\mathcal{N}(0, 20)$\n",
    "- $p(w_1) = \\mathcal{N}(0, 20)$\n",
    "- $p(\\sigma) = U(0, 20)$\n",
    "\n",
    "Below is the code to define this model in `pymc`. Note that this code performs MCMC using a No U-Turn Sampler (NUTS) which operates using the same principles as the Metropolis algorithm but is much more efficient."
   ]
  },
  {
   "cell_type": "code",
   "execution_count": null,
   "metadata": {
    "scrolled": false,
    "ExecuteTime": {
     "start_time": "2023-10-15T22:17:34.553397600Z"
    }
   },
   "outputs": [],
   "source": [
    "num_samples = 1000\n",
    "model = pm.Model()\n",
    "\n",
    "with model:\n",
    "    # Defining our priors\n",
    "    w0 = pm.Normal('w0', mu=0, sigma=20)\n",
    "    w1 = pm.Normal('w1', mu=0, sigma=20)\n",
    "    sigma = pm.Uniform('sigma', lower=0, upper=20)\n",
    "\n",
    "    y_est = w0 + w1*x # auxiliary variables\n",
    "\n",
    "    likelihood = pm.Normal('y', mu=y_est, sigma=sigma, observed=y)\n",
    "    \n",
    "    # inference\n",
    "    sampler = pm.NUTS() # Hamiltonian MCMC with No U-Turn Sampler \n",
    "    # or alternatively\n",
    "    # sampler = pm.Metropolis()\n",
    "    \n",
    "    idata = pm.sample(num_samples, step=sampler, progressbar=True, cores=2, chains=2)\n",
    "    "
   ]
  },
  {
   "cell_type": "markdown",
   "metadata": {},
   "source": [
    "The `idata` variable is an [`Inference Object`](https://python.arviz.org/en/latest/api/generated/arviz.InferenceData.html#arviz.InferenceData) instance which now contains the sampled values from the posterior distribution for each of the model parameters (and other useful information). Information on each variable can be accessed from the `idata.posterior` attribute using dictionary syntax, for example: `w1_trace = idata.posterior['w1']`. \n",
    "\n",
    "When using pyMC one almost always runs multiple chains: if the estimates (e.g. of posterior means) we get from each chain are close then that is evidence that each chain converged (i.e. ended up sampling from the same distribution). In the pyMC run we have just done we asked for 2 Markov chains so `idata.posterior['w1']` has information on both chains. The sampled values from the first chain are contained in `idata.posterior['w1'][0]`. `idata.posterior['w1'][0]` is an object of type [`xarray.DataArray`](https://docs.xarray.dev/en/stable/generated/xarray.DataArray.html#xarray.DataArray). If you want the sampled values of the first chain for `w1` as a numpy array then you need `idata.posterior['w1'][0].values`\n",
    "\n",
    "Make the following plots:\n",
    "- Histogram of the samples of $p(w_0 \\vert \\mathcal{D})$, $p(w_1 \\vert \\mathcal{D})$ and $p(\\sigma \\vert \\mathcal{D})$\n",
    "- A two-dimensional histogram of $p(w_0, w_1 \\vert \\mathcal{D})$ (see [hist2d](https://matplotlib.org/3.1.1/api/_as_gen/matplotlib.pyplot.hist2d.html)). What is the relationship between these two parameters and how do you interpret this relationship in terms of the model?\n"
   ]
  },
  {
   "cell_type": "code",
   "execution_count": null,
   "metadata": {
    "ExecuteTime": {
     "end_time": "2023-10-15T22:17:34.560897300Z",
     "start_time": "2023-10-15T22:17:34.553897500Z"
    }
   },
   "outputs": [],
   "source": [
    "# write your code here\n"
   ]
  },
  {
   "cell_type": "markdown",
   "metadata": {},
   "source": [
    "Now that you have analysed the output of PyMC 'by hand', let's do it the easy way using the `plot_trace` method! Instead of generating a histogram we'll get a smoothed estimate of the posterior distributions. We'll do this first where we combine samples from the two chains and then get estimates of posterior distributions from the two chains separately."
   ]
  },
  {
   "cell_type": "code",
   "execution_count": null,
   "metadata": {
    "ExecuteTime": {
     "start_time": "2023-10-15T22:17:34.554397400Z"
    }
   },
   "outputs": [],
   "source": [
    "az.plot_trace(idata, combined=True)\n",
    "az.plot_trace(idata,legend=True)"
   ]
  },
  {
   "cell_type": "markdown",
   "metadata": {},
   "source": [
    "The traces on the right side are the sampled values used to construct the estimated posterior densities on the left. The trace for chain 0 has a dotted line, that for chain 1 a solid line.\n",
    "\n",
    "We can also get a useful textual summary of the MCMC run:"
   ]
  },
  {
   "cell_type": "code",
   "execution_count": null,
   "metadata": {
    "ExecuteTime": {
     "start_time": "2023-10-15T22:17:34.555397500Z"
    }
   },
   "outputs": [],
   "source": [
    "az.summary(idata, round_to=2)"
   ]
  },
  {
   "cell_type": "markdown",
   "metadata": {},
   "source": [
    "The $\\hat{R}$ quantity (last column) is the [Gelman-Rubin statistic](https://pymcmc.readthedocs.io/en/latest/modelchecking.html#convergence-diagnostics) which measures (roughly speaking) how similar our 2 Markov chains are. A value close to 1 (say less than 1.1) is evidence that both chains have converged. In the table above all $\\hat{R}$ values are exactly 1, so all is good."
   ]
  },
  {
   "cell_type": "markdown",
   "metadata": {},
   "source": [
    "### Exercises:\n",
    "1. Experiment with changing the prior distributions within the model: \n",
    "    - How does changing the prior distributions' mean or variance affect the posterior belief?\n",
    "    - What happens if the uniform distribution prior over $\\sigma$ is changed to exclude the true value? (e.g. $p(\\sigma) = U(5, 20)$)\n",
    "    \n",
    "2. Introduce a new parameter, $w_2$, to the data generation code such that\n",
    "    $$ y_i = w_0 + w_1x_i + w_2x_i^2+ \\epsilon$$\n",
    "   and adjust the model to perform inference for this parameter from the data.\n",
    "\n",
    "## Wrap up\n",
    "\n",
    "This lab covered a number of topics so let's recap:\n",
    "- First, we looked at a simple example of a graphical model and showed how to go about efficiently generating samples from a distribution that factorises over the graph using ancestral sampling.\n",
    "- We demonstrated the power of sampling by using samples to estimate quantities relating to the distribution.\n",
    "- We then looked at using the concepts of MCMC algorithms to generate samples from probability densities that are otherwise difficult to sample from and implemented the Metropolis algorithm.\n",
    "- Finally, we looked at the PyMC python library and how its efficient implementations of MCMC algorithms can be utilised within a Bayesian Linear Regression model.\n",
    "\n",
    "### References\n",
    "\n",
    "- COMS30035 Machine Learning lecture notes 3.\n",
    "- Bishop Pattern Recognition and Machine Learning: Chapter 3.3 for Bayesian linear regression, chapter 8.1 for graphical models and chapter 11.2 for MCMC."
   ]
  }
 ],
 "metadata": {
  "kernelspec": {
   "display_name": "Python 3 (ipykernel)",
   "language": "python",
   "name": "python3"
  },
  "language_info": {
   "codemirror_mode": {
    "name": "ipython",
    "version": 3
   },
   "file_extension": ".py",
   "mimetype": "text/x-python",
   "name": "python",
   "nbconvert_exporter": "python",
   "pygments_lexer": "ipython3",
   "version": "3.10.13"
  }
 },
 "nbformat": 4,
 "nbformat_minor": 2
}
